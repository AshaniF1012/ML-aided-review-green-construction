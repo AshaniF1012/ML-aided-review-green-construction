{
 "cells": [
  {
   "cell_type": "code",
   "execution_count": 17,
   "id": "cf0feee0-0171-484d-bafb-7033cd7b01e1",
   "metadata": {},
   "outputs": [],
   "source": [
    "import pandas as pd\n",
    "\n",
    "df = pd.read_csv('hyd.csv',header=None)"
   ]
  },
  {
   "cell_type": "code",
   "execution_count": 18,
   "id": "4c7ad3ac-88a2-48f8-a96c-b54f4eb739b3",
   "metadata": {},
   "outputs": [
    {
     "name": "stdout",
     "output_type": "stream",
     "text": [
      "189 31\n"
     ]
    }
   ],
   "source": [
    "no_rows = len(df)\n",
    "no_cols =len(df.columns)\n",
    "\n",
    "print (no_rows, no_cols)"
   ]
  },
  {
   "cell_type": "code",
   "execution_count": 24,
   "id": "09d71ff7-18a4-4915-9757-85ac486852cd",
   "metadata": {},
   "outputs": [],
   "source": [
    "Dat = []\n",
    "k = 0\n",
    "for row in range (0,no_rows):\n",
    "    for col in range (0,no_cols):\n",
    "        if not(pd.isnull(df.iloc[row,col])):\n",
    "            Dat.append(df.iloc[row,col])\n",
    "            k=k+1\n",
    "\n"
   ]
  },
  {
   "cell_type": "code",
   "execution_count": 26,
   "id": "df5bb118-310a-4ac2-8e88-8e513fa40f1f",
   "metadata": {},
   "outputs": [],
   "source": [
    "dfOut = pd.DataFrame({'col':Dat})"
   ]
  },
  {
   "cell_type": "code",
   "execution_count": 28,
   "id": "bc5dc96f-e32a-42c8-8de1-af47cc6ed6b0",
   "metadata": {},
   "outputs": [],
   "source": [
    "dfOut.to_csv('hydOut.csv', index=False)"
   ]
  },
  {
   "cell_type": "code",
   "execution_count": null,
   "id": "6f090cb8-1885-4f61-bf49-7e8aa804e37f",
   "metadata": {},
   "outputs": [],
   "source": []
  }
 ],
 "metadata": {
  "kernelspec": {
   "display_name": "Python 3 (ipykernel)",
   "language": "python",
   "name": "python3"
  },
  "language_info": {
   "codemirror_mode": {
    "name": "ipython",
    "version": 3
   },
   "file_extension": ".py",
   "mimetype": "text/x-python",
   "name": "python",
   "nbconvert_exporter": "python",
   "pygments_lexer": "ipython3",
   "version": "3.10.5"
  }
 },
 "nbformat": 4,
 "nbformat_minor": 5
}
