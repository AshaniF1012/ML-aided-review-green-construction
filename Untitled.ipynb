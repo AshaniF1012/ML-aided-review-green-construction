{
 "cells": [
  {
   "cell_type": "code",
   "execution_count": 4,
   "id": "08a4bbab-be7c-45c4-a372-fab57f434407",
   "metadata": {},
   "outputs": [],
   "source": [
    "import sys, os\n",
    "\n",
    "from sklearn.feature_extraction.text import CountVectorizer, TfidfVectorizer\n",
    "from itertools import product, combinations\n",
    "from pycountry_convert import  country_alpha2_to_continent_code, country_alpha3_to_country_alpha2\n",
    "\n",
    "import pandas as pd"
   ]
  },
  {
   "cell_type": "code",
   "execution_count": 16,
   "id": "c56bbf0d-94bf-4eec-bda9-ce4f012c3198",
   "metadata": {},
   "outputs": [],
   "source": [
    "df1 = pd.read_csv('FinalOutTopics.csv')\n",
    "df2 = pd.read_csv('dfall.csv')\n",
    "\n",
    "d = (\n",
    "    df2.merge(df1, \n",
    "              on=['id'],\n",
    "              how='left', \n",
    "              indicator=True)\n",
    "    .query('_merge == \"both\"')\n",
    "    .drop(columns='_merge')\n",
    ")"
   ]
  },
  {
   "cell_type": "code",
   "execution_count": 24,
   "id": "5e123418-1d9d-49d8-8802-72f7d5c4dc66",
   "metadata": {},
   "outputs": [
    {
     "ename": "ModuleNotFoundError",
     "evalue": "No module named 'mordecai'",
     "output_type": "error",
     "traceback": [
      "\u001b[1;31m---------------------------------------------------------------------------\u001b[0m",
      "\u001b[1;31mModuleNotFoundError\u001b[0m                       Traceback (most recent call last)",
      "Input \u001b[1;32mIn [24]\u001b[0m, in \u001b[0;36m<cell line: 1>\u001b[1;34m()\u001b[0m\n\u001b[1;32m----> 1\u001b[0m \u001b[38;5;28;01mfrom\u001b[39;00m \u001b[38;5;21;01mmordecai\u001b[39;00m \u001b[38;5;28;01mimport\u001b[39;00m Geoparser\n\u001b[0;32m      2\u001b[0m geo \u001b[38;5;241m=\u001b[39m Geoparser()\n\u001b[0;32m      4\u001b[0m geo\u001b[38;5;241m.\u001b[39mgeoparse(\u001b[38;5;124m\"\u001b[39m\u001b[38;5;124mI took the tube from Oxford Circus to London Bridge, via Bank\u001b[39m\u001b[38;5;124m\"\u001b[39m)\n",
      "\u001b[1;31mModuleNotFoundError\u001b[0m: No module named 'mordecai'"
     ]
    }
   ],
   "source": [
    "from mordecai import Geoparser\n",
    "geo = Geoparser()\n",
    "\n",
    "geo.geoparse(\"I took the tube from Oxford Circus to London Bridge, via Bank\")\n"
   ]
  },
  {
   "cell_type": "code",
   "execution_count": null,
   "id": "2c2b9a86-8182-4be8-a786-6992c417a46f",
   "metadata": {},
   "outputs": [],
   "source": []
  },
  {
   "cell_type": "code",
   "execution_count": null,
   "id": "fd587b8e-9947-4448-99ba-27659eded8b9",
   "metadata": {},
   "outputs": [],
   "source": []
  }
 ],
 "metadata": {
  "kernelspec": {
   "display_name": "Python 3 (ipykernel)",
   "language": "python",
   "name": "python3"
  },
  "language_info": {
   "codemirror_mode": {
    "name": "ipython",
    "version": 3
   },
   "file_extension": ".py",
   "mimetype": "text/x-python",
   "name": "python",
   "nbconvert_exporter": "python",
   "pygments_lexer": "ipython3",
   "version": "3.10.5"
  }
 },
 "nbformat": 4,
 "nbformat_minor": 5
}
